{
 "cells": [
  {
   "cell_type": "markdown",
   "id": "bef9cb16",
   "metadata": {},
   "source": [
    "- Step Size: 구간(Step)에 따라 특정값으로 mapping함\n",
    "→ Step Size가 클 수록 Bit의 수가 낮아짐\n",
    "\n",
    "- 영상 파일을 압축할 때, 시간적 유사도를 바탕으로 **차분(Difference)**함\n",
    "\n",
    "- Kernel == Window"
   ]
  },
  {
   "cell_type": "code",
   "execution_count": null,
   "id": "2e36cf50",
   "metadata": {},
   "outputs": [],
   "source": [
    "# 영상파일 읽기\n",
    "\n",
    "import cv2\n",
    "from Common.utils import print_matInfo  # 행렬 정보 출력 함수 임포트\n",
    "\n",
    "title1, title2 = \"color2gray\", \"color2color\"\n",
    "color2gray = cv2.imread(\"C:/Users/101/opencv/chap04/images/read_color.jpg\", cv2.IMREAD_GRAYSCALE)\n",
    "color2color = cv2.imread(\"C:/Users/101/opencv/chap04/images/read_color.jpg\", cv2.IMREAD_COLOR)\n",
    "if color2gray is None or color2color is None:\n",
    "    raise Exception(\"영상 파일 읽기 에러\")\n",
    "\n",
    "print(\"행렬 좌표 (100, 100) 화소값\")\n",
    "print(\"%s %s\" % (title1, color2gray[100, 100]))     # 한 화소값 표시\n",
    "print(\"%s %s\\n\" % (title2, color2color[100, 100]))\n",
    "\n",
    "print_matInfo(title1, color2gray)                   # 행렬 정보 출력\n",
    "print_matInfo(title2, color2color)\n",
    "cv2.imshow(title1, color2gray)                      # 행렬 정보 영상으로 띄우기\n",
    "cv2.imshow(title2, color2color)\n",
    "cv2.waitKey(0)"
   ]
  },
  {
   "cell_type": "markdown",
   "id": "f8c01cc8",
   "metadata": {},
   "source": [
    "- ```cv.imread(file_name, flags)```: 영상을 load하여 행렬로 변환\n",
    "    - flags: load한 영상을 행렬로 변환할 때 칼러 타입을 결정\n",
    "        - 0: cv2.IMREAD_GRAYSCALE, GrayScale 형태로 변환\n",
    "        - -1: cv2.IMREAD_UNCHANGED, 영상 그대로 변환(alpha 채널 포함)\n",
    "        - 1: cv2.IMREAD_COLOR, 칼러 영상으로 변환하여 반환"
   ]
  },
  {
   "cell_type": "code",
   "execution_count": null,
   "id": "eb9d72b8",
   "metadata": {},
   "outputs": [],
   "source": [
    "import cv2\n",
    "from Common.utils import print_matInfo\n",
    "\n",
    "title1, title2 = \"16bit unchanged\", \"32bit unchanged\"  # 윈도우 이름\n",
    "color2unchanged1 = cv2.imread(\"images/read_16.tif\", cv2.IMREAD_UNCHANGED)\n",
    "color2unchanged2 = cv2.imread(\"images/read_32.tif\", cv2.IMREAD_UNCHANGED)\n",
    "if color2unchanged1 is None or color2unchanged2 is None:\n",
    "    raise Exception(\"영상파일 읽기 에러\")\n",
    "\n",
    "print(\"16/32비트 영상 행렬 좌표 (10, 10) 화소값\")\n",
    "print(title1, \"원소 자료형 \",  type(color2unchanged1[10][10][0]))   # 원소 좌료형\n",
    "print(color2unchanged1[10][10][0])\n",
    "print(color2unchanged1[10][10][1])\n",
    "print(color2unchanged1[10][10][2])\n",
    "print(title1, \"화소값(3원소) \", color2unchanged1[10, 10] )           # 행렬 내 한 화소 값 표시\n",
    "print(title2, \"원소 자료형 \",  type(color2unchanged2[10][10][0]))\n",
    "print(title2, \"화소값(3원소) \", color2unchanged2[10, 10] )\n",
    "print()\n",
    "\n",
    "print_matInfo(title1, color2unchanged1)         # 행렬 정보 출력\n",
    "print_matInfo(title2, color2unchanged2)\n",
    "cv2.imshow(title1, color2unchanged1)\n",
    "cv2.imshow(title2, (color2unchanged2*255).astype('uint8')) # 8bit로 변환\n",
    "cv2.waitKey(0)"
   ]
  },
  {
   "cell_type": "markdown",
   "id": "16738d11",
   "metadata": {},
   "source": [
    "- ```cv2.imshow(title2, (color2unchanged2*255).astype('uint8'))```\n",
    "    - 255로 곱하기 Upscaling"
   ]
  },
  {
   "cell_type": "markdown",
   "id": "3baca142",
   "metadata": {},
   "source": [
    "# 카메라에서 프레임 읽기"
   ]
  },
  {
   "cell_type": "code",
   "execution_count": null,
   "id": "6357cb27",
   "metadata": {},
   "outputs": [],
   "source": [
    "import cv2\n",
    "\n",
    "def put_string(frame, text, pt, value, color=(120, 200, 90)): # 문자열 출력 함수 - 그림자 효과\n",
    "    text += str(value)\n",
    "    shade = (pt[0] + 2, pt[1] + 2)\n",
    "    font = cv2.FONT_HERSHEY_SIMPLEX\n",
    "    cv2.putText(frame, text, shade, font, 0.7, (0, 0, 0), 2)  # 그림자 효과\n",
    "    cv2.putText(frame, text, pt, font, 0.7, (120, 200, 90), 2)  # 글자 적기\n",
    "\n",
    "capture = cv2.VideoCapture(0)  # 0번 카메라 연결\n",
    "if capture.isOpened() == False:\n",
    "    raise Exception(\"카메라 연결 안됨\")\n",
    "\n",
    "# 카메라 속성 획득 및 출력\n",
    "print(\"너비 %d\" % capture.get(cv2.CAP_PROP_FRAME_WIDTH))\n",
    "print(\"높이 %d\" % capture.get(cv2.CAP_PROP_FRAME_HEIGHT))\n",
    "print(\"노출 %d\" % capture.get(cv2.CAP_PROP_EXPOSURE))\n",
    "print(\"밝기 %d\" % capture.get(cv2.CAP_PROP_BRIGHTNESS))\n",
    "\n",
    "while True:  # 무한 반복\n",
    "    ret, frame = capture.read()  # 카메라 영상 받기\n",
    "    if not ret: break\n",
    "    if cv2.waitKey(30) >= 0: break # 종료조건: Event key 32는 스페이스바 키를 나타냄, https://lifeones.tistory.com/104\n",
    "\n",
    "    exposure = capture.get(cv2.CAP_PROP_EXPOSURE)\n",
    "    put_string(frame, \"EXPOS: \", (10, 40), exposure)\n",
    "    title = \"View Frame from Camera\"\n",
    "    cv2.imshow(title, frame)  # 윈도우에 영상 띄우기\n",
    "capture.release()"
   ]
  },
  {
   "cell_type": "markdown",
   "id": "fdf3f64b",
   "metadata": {},
   "source": [
    "- ```cv2.VideoCapture()```: 생성자\n",
    "- ```cv2.VideoCapture.release()```: 소멸자\n",
    "- ```cv2.VideoCapture.get(propid)```: 지정된 속성값을 반환\n",
    "    - propid: property id (변경하려는 카메라 설정)\n",
    "- ```cv2.waitKey(30) >= 0``` # 종료조건: Event key 32는 스페이스바 키를 나타냄, https://lifeones.tistory.com/104"
   ]
  },
  {
   "cell_type": "markdown",
   "id": "d5f6924f",
   "metadata": {},
   "source": [
    "- ```cv2.split(다채널)``` -> 단일채널\n",
    "- ```cv.merge(단일채널)``` -> 다채널"
   ]
  },
  {
   "cell_type": "markdown",
   "id": "642d7e2c",
   "metadata": {},
   "source": [
    "# OpenCV 기본연산"
   ]
  },
  {
   "cell_type": "markdown",
   "id": "47d2a594",
   "metadata": {},
   "source": [
    "- OpenCV는 기본적으로 Saturation 연산으로 화소값 연산을 함\n",
    "    - Saturation 연산: 한계값을 정하고, 그 값을 벗어나는 경우에는 특정값으로 계산하는 방식\n",
    "    - ex) image에서 0 이하는 모두 0, 255 이상은 모두 255로 표현"
   ]
  },
  {
   "cell_type": "markdown",
   "id": "dc64fe51",
   "metadata": {},
   "source": [
    "- **(중요)** 논리(비트) 연산 함수\n",
    "    - OpenCV에서 영상의 논리 연산(logical operation)이란 픽셀 값을 2진수로 표현하여 각 비트 단위 논리 연산을 수행하는 것을 의미한다.\n",
    "\n",
    "    - OpenCV에서는 논리합(OR), 논리곱(AND), 부정(NOT), 배타적 논리합(XOR) 연산을 지원한다.\n",
    "\n",
    "        - 논리합(OR) : 2개의 입력 비트 중 1개라도 1이면 결과가 1이 되는 연산\n",
    "\n",
    "        - 논리곱(AND) : 2개의 입력 비트 중 모두 1인 경우만 결과가 1이 되는 연산\n",
    "\n",
    "        - 부정(NOT) : 입력 비트가 0이면 결과가 1, 1이면 결과가 0이 되는 연산\n",
    "\n",
    "        - 배타적 논리합(XOR) : 2개의 입력 비트 중 1개만 1인 경우 결과가 1이 되는 연산"
   ]
  }
 ],
 "metadata": {
  "kernelspec": {
   "display_name": "Python 3 (ipykernel)",
   "language": "python",
   "name": "python3"
  },
  "language_info": {
   "codemirror_mode": {
    "name": "ipython",
    "version": 3
   },
   "file_extension": ".py",
   "mimetype": "text/x-python",
   "name": "python",
   "nbconvert_exporter": "python",
   "pygments_lexer": "ipython3",
   "version": "3.9.13"
  }
 },
 "nbformat": 4,
 "nbformat_minor": 5
}
