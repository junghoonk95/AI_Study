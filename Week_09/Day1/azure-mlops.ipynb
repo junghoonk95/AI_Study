{
  "cells": [
    {
      "cell_type": "code",
      "source": [
        "from azureml.core import Workspace\r\n",
        "ws = Workspace.from_config()\r\n",
        "print('WorkSpace Name: '+ ws.name,\r\n",
        "    'Azure Region: ' + ws.location,\r\n",
        "    'Subscription: '+ ws.subscription_id,\r\n",
        "    'Resoure Group: ' + ws.resource_group, sep='\\n')"
      ],
      "outputs": [
        {
          "output_type": "stream",
          "name": "stdout",
          "text": "WorkSpace Name: labuser55ml\nAzure Region: eastus\nSubscription: 3f43e823-597d-46de-8acc-3385c3f14d12\nResoure Group: rg55\n"
        }
      ],
      "execution_count": 1,
      "metadata": {
        "jupyter": {
          "source_hidden": false,
          "outputs_hidden": false
        },
        "nteract": {
          "transient": {
            "deleting": false
          }
        },
        "gather": {
          "logged": 1676270743825
        }
      }
    },
    {
      "cell_type": "code",
      "source": [
        "from azureml.core import Experiment\r\n",
        "experiment = Experiment(workspace=ws, name='diabetes-experiment')"
      ],
      "outputs": [],
      "execution_count": 2,
      "metadata": {
        "jupyter": {
          "source_hidden": false,
          "outputs_hidden": false
        },
        "nteract": {
          "transient": {
            "deleting": false
          }
        },
        "gather": {
          "logged": 1676270743962
        }
      }
    },
    {
      "cell_type": "code",
      "source": [
        "experiment"
      ],
      "outputs": [
        {
          "output_type": "execute_result",
          "execution_count": 3,
          "data": {
            "text/plain": "Experiment(Name: diabetes-experiment,\nWorkspace: labuser55ml)",
            "text/html": "<table style=\"width:100%\"><tr><th>Name</th><th>Workspace</th><th>Report Page</th><th>Docs Page</th></tr><tr><td>diabetes-experiment</td><td>labuser55ml</td><td><a href=\"https://ml.azure.com/experiments/id/c296ac50-c3f9-4865-b424-cf6dbded6d01?wsid=/subscriptions/3f43e823-597d-46de-8acc-3385c3f14d12/resourcegroups/rg55/workspaces/labuser55ml&amp;tid=373346ec-cc5f-4210-b5bc-9a4c2d9517d8\" target=\"_blank\" rel=\"noopener\">Link to Azure Machine Learning studio</a></td><td><a href=\"https://docs.microsoft.com/en-us/python/api/azureml-core/azureml.core.experiment.Experiment?view=azure-ml-py\" target=\"_blank\" rel=\"noopener\">Link to Documentation</a></td></tr></table>"
          },
          "metadata": {}
        }
      ],
      "execution_count": 3,
      "metadata": {
        "jupyter": {
          "source_hidden": false,
          "outputs_hidden": false
        },
        "nteract": {
          "transient": {
            "deleting": false
          }
        },
        "gather": {
          "logged": 1676270744087
        }
      }
    },
    {
      "cell_type": "code",
      "source": [
        "from azureml.opendatasets import Diabetes\r\n",
        "from sklearn.model_selection import train_test_split\r\n",
        "\r\n",
        "x_df = Diabetes.get_tabular_dataset().to_pandas_dataframe().dropna()\r\n",
        "y_df = x_df.pop('Y')\r\n",
        "\r\n",
        "X_train, X_test, y_train, y_test = train_test_split(\r\n",
        "                    x_df,\r\n",
        "                    y_df,\r\n",
        "                    test_size = 0.2,\r\n",
        "                    random_state = 42\r\n",
        ")"
      ],
      "outputs": [],
      "execution_count": 4,
      "metadata": {
        "jupyter": {
          "source_hidden": false,
          "outputs_hidden": false
        },
        "nteract": {
          "transient": {
            "deleting": false
          }
        },
        "gather": {
          "logged": 1676270746741
        }
      }
    },
    {
      "cell_type": "code",
      "source": [
        "from sklearn.linear_model import Ridge\r\n",
        "from sklearn.metrics import mean_squared_error\r\n",
        "from sklearn.externals import joblib\r\n",
        "import math\r\n",
        "import numpy as np\r\n",
        "\r\n",
        "alphas = [round(num, 1) for num in np.arange(0.1, 1.1, 0.1)]"
      ],
      "outputs": [
        {
          "output_type": "stream",
          "name": "stderr",
          "text": "/anaconda/envs/azureml_py38/lib/python3.8/site-packages/sklearn/externals/joblib/__init__.py:15: FutureWarning: sklearn.externals.joblib is deprecated in 0.21 and will be removed in 0.23. Please import this functionality directly from joblib, which can be installed with: pip install joblib. If this warning is raised when loading pickled models, you may need to re-serialize those models with scikit-learn 0.21+.\n  warnings.warn(msg, category=FutureWarning)\n"
        }
      ],
      "execution_count": 5,
      "metadata": {
        "jupyter": {
          "source_hidden": false,
          "outputs_hidden": false
        },
        "nteract": {
          "transient": {
            "deleting": false
          }
        },
        "gather": {
          "logged": 1676270746874
        }
      }
    },
    {
      "cell_type": "code",
      "source": [
        "for alpha in alphas:\r\n",
        "    run = experiment.start_logging()\r\n",
        "    run.log('alpha_value', alpha)\r\n",
        "\r\n",
        "    model = Ridge(alpha=alpha)\r\n",
        "    model.fit(X=X_train, y=y_train)\r\n",
        "    y_pred = model.predict(X=X_test)\r\n",
        "    rmse = math.sqrt(mean_squared_error(y_true=y_test, y_pred=y_pred))\r\n",
        "    run.log('rmse', rmse)\r\n",
        "\r\n",
        "    model_name = 'model_alpha_' + str(alpha) + '.pkl'\r\n",
        "    file_name = 'outputs/' + model_name\r\n",
        "    \r\n",
        "    joblib.dump(value=model, filename=file_name) # pickle 파일 저장\r\n",
        "    run.upload_file(name=model_name, path_or_stream=file_name) # Azure ML Studio에 업로드\r\n",
        "    run.complete() # log 기록을 끝냄\r\n",
        "\r\n",
        "    print(f'{alpha} experiment completed!')"
      ],
      "outputs": [
        {
          "output_type": "stream",
          "name": "stdout",
          "text": "0.1 experiment completed!\n0.2 experiment completed!\n0.3 experiment completed!\n0.4 experiment completed!\n0.5 experiment completed!\n0.6 experiment completed!\n0.7 experiment completed!\n0.8 experiment completed!\n0.9 experiment completed!\n1.0 experiment completed!\n"
        }
      ],
      "execution_count": 6,
      "metadata": {
        "jupyter": {
          "source_hidden": false,
          "outputs_hidden": false
        },
        "nteract": {
          "transient": {
            "deleting": false
          }
        },
        "gather": {
          "logged": 1676270824590
        }
      }
    },
    {
      "cell_type": "markdown",
      "source": [
        "# 베스트 모델 선택"
      ],
      "metadata": {
        "nteract": {
          "transient": {
            "deleting": false
          }
        }
      }
    },
    {
      "cell_type": "code",
      "source": [
        "minimum_rmse_runid = None\r\n",
        "minimum_rmse = None\r\n",
        "\r\n",
        "for run in experiment.get_runs():\r\n",
        "    run_metrics = run.get_metrics()\r\n",
        "    run_details = run.get_details()\r\n",
        "    \r\n",
        "    # print('RMSE = ' + str(run_metrics['rmse']) + ' id = ' + run_details['runId'])\r\n",
        "    \r\n",
        "    run_rmse = run_metrics['rmse']\r\n",
        "    run_id = run_details['runId']\r\n",
        "\r\n",
        "    if minimum_rmse is None: # 첫번째 rmse 기록\r\n",
        "        minimum_rmse = run_rmse\r\n",
        "        minimum_rmse_runid = run_id\r\n",
        "    else:\r\n",
        "        if run_rmse < minimum_rmse: # 더 낮은 RMSE를 찾을 시에 교체\r\n",
        "            minimum_rmse = run_rmse\r\n",
        "            minimum_rmse_runid = run_id\r\n",
        "\r\n",
        "print('Best run-id: ' + minimum_rmse_runid)\r\n",
        "print('Best RMSE: ' + str(minimum_rmse))"
      ],
      "outputs": [
        {
          "output_type": "stream",
          "name": "stdout",
          "text": "Best run-id: bc221134-c93e-42e3-9b5a-e535d98ebc1b\nBest RMSE: 53.85527385056211\n"
        }
      ],
      "execution_count": 7,
      "metadata": {
        "jupyter": {
          "source_hidden": false,
          "outputs_hidden": false
        },
        "nteract": {
          "transient": {
            "deleting": false
          }
        },
        "gather": {
          "logged": 1676270879917
        }
      }
    },
    {
      "cell_type": "code",
      "source": [
        "from azureml.core import Run\r\n",
        "best_run = Run(experiment=experiment, run_id=minimum_rmse_runid)\r\n",
        "print(best_run.get_file_names())\r\n",
        "best_run.download_file(name=str(best_run.get_file_names()[0])) # Best Model Download"
      ],
      "outputs": [
        {
          "output_type": "stream",
          "name": "stdout",
          "text": "['model_alpha_0.1.pkl', 'outputs/model_alpha_0.1.pkl']\n"
        }
      ],
      "execution_count": 8,
      "metadata": {
        "jupyter": {
          "source_hidden": false,
          "outputs_hidden": false
        },
        "nteract": {
          "transient": {
            "deleting": false
          }
        },
        "gather": {
          "logged": 1676270880943
        }
      }
    },
    {
      "cell_type": "code",
      "source": [
        "import numpy as np\r\n",
        "from azureml.core import Dataset\r\n",
        "\r\n",
        "np.savetxt('features.csv', X_train, delimiter=',')\r\n",
        "np.savetxt('labels.csv', y_train, delimiter=',')\r\n",
        "\r\n",
        "datastore = ws.get_default_datastore()\r\n",
        "datastore.upload_files(files=['./features.csv','./labels.csv'],\r\n",
        "                        target_path='diabetes-experiment',\r\n",
        "                        overwrite=True)\r\n",
        "\r\n",
        "input_dataset = Dataset.Tabular.from_delimited_files(\r\n",
        "                    path=[(datastore,'diabetes-experiment/features.csv')]\r\n",
        ")\r\n",
        "output_dataset = Dataset.Tabular.from_delimited_files(\r\n",
        "                    path=[(datastore,'diabetes-experiment/labels.csv')]\r\n",
        ")"
      ],
      "outputs": [
        {
          "output_type": "stream",
          "name": "stdout",
          "text": "Uploading an estimated of 2 files\nUploading ./features.csv\nUploaded ./features.csv, 1 files out of an estimated total of 2\nUploading ./labels.csv\nUploaded ./labels.csv, 2 files out of an estimated total of 2\nUploaded 2 files\n"
        }
      ],
      "execution_count": 11,
      "metadata": {
        "jupyter": {
          "source_hidden": false,
          "outputs_hidden": false
        },
        "nteract": {
          "transient": {
            "deleting": false
          }
        },
        "gather": {
          "logged": 1676271058828
        }
      }
    },
    {
      "cell_type": "code",
      "source": [
        "import sklearn\r\n",
        "\r\n",
        "from azureml.core import Model\r\n",
        "from azureml.core.resource_configuration import ResourceConfiguration\r\n",
        "\r\n",
        " # 베스트 모델을 Azure ML Studio에 등록\r\n",
        "model = Model.register(workspace=ws, \r\n",
        "                        model_name='diabetes-experiment-model',\r\n",
        "                        model_path=f'./{str(best_run.get_file_names()[0])}',\r\n",
        "                        model_framework=Model.Framework.SCIKITLEARN,\r\n",
        "                        model_framework_version=sklearn.__version__,\r\n",
        "                        sample_input_dataset=input_dataset,\r\n",
        "                        sample_output_dataset=output_dataset,\r\n",
        "                        resource_configuration=ResourceConfiguration(cpu=1, memory_in_gb=0.5),\r\n",
        "                        description='Ridge regression model to predict diabetes progression',\r\n",
        "                        tags={'area':'diabetes', 'type':'regresion'}\r\n",
        ")\r\n",
        "\r\n",
        "print('Name: ', model.name)\r\n",
        "print('Version: ', model.version)"
      ],
      "outputs": [
        {
          "output_type": "stream",
          "name": "stdout",
          "text": "Registering model diabetes-experiment-model\nName:  diabetes-experiment-model\nVersion:  1\n"
        }
      ],
      "execution_count": 15,
      "metadata": {
        "jupyter": {
          "source_hidden": false,
          "outputs_hidden": false
        },
        "nteract": {
          "transient": {
            "deleting": false
          }
        },
        "gather": {
          "logged": 1676272956244
        }
      }
    },
    {
      "cell_type": "code",
      "source": [
        "# 모델 배포\r\n",
        "server_name = 'diabetes-service'\r\n",
        "\r\n",
        "service = Model.deploy(ws, server_name, [model], overwrite=True)\r\n",
        "service.wait_for_deployment(show_output=True) # 중간 결과물 확인"
      ],
      "outputs": [
        {
          "output_type": "stream",
          "name": "stderr",
          "text": "/tmp/ipykernel_158968/2253787028.py:4: FutureWarning: azureml.core.model:\nTo leverage new model deployment capabilities, AzureML recommends using CLI/SDK v2 to deploy models as online endpoint, \nplease refer to respective documentations \nhttps://docs.microsoft.com/azure/machine-learning/how-to-deploy-managed-online-endpoints /\nhttps://docs.microsoft.com/azure/machine-learning/how-to-attach-kubernetes-anywhere \nFor more information on migration, see https://aka.ms/acimoemigration. \nTo disable CLI/SDK v1 deprecation warning set AZUREML_LOG_DEPRECATION_WARNING_ENABLED to 'False'\n  service = Model.deploy(ws, server_name, [model], overwrite=True)\n"
        },
        {
          "output_type": "stream",
          "name": "stdout",
          "text": "Tips: You can try get_logs(): https://aka.ms/debugimage#dockerlog or local deployment: https://aka.ms/debugimage#debug-locally to debug if deployment takes longer than 10 minutes.\nRunning\n2023-02-13 07:29:19+00:00 Creating Container Registry if not exists..\n2023-02-13 07:39:19+00:00 Registering the environment..\n2023-02-13 07:39:23+00:00 Uploading autogenerated assets for no-code-deployment..\n2023-02-13 07:39:31+00:00 Building image..\n2023-02-13 07:49:51+00:00 Generating deployment configuration.\n2023-02-13 07:49:52+00:00 Submitting deployment to compute..\n2023-02-13 07:50:01+00:00 Checking the status of deployment diabetes-service..\n2023-02-13 07:51:38+00:00 Checking the status of inference endpoint diabetes-service.\nSucceeded\nACI service creation operation finished, operation \"Succeeded\"\n"
        }
      ],
      "execution_count": 16,
      "metadata": {
        "jupyter": {
          "source_hidden": false,
          "outputs_hidden": false
        },
        "nteract": {
          "transient": {
            "deleting": false
          }
        },
        "gather": {
          "logged": 1676274719236
        }
      }
    },
    {
      "cell_type": "code",
      "source": [
        "import json\r\n",
        "\r\n",
        "input_pay_load = json.dumps({'data': X_train[0:2].values.tolist(),\r\n",
        " 'method': 'predict'})\r\n",
        "\r\n",
        "output = service.run(input_pay_load) # 서비스 실행\r\n",
        "print(output)"
      ],
      "outputs": [
        {
          "output_type": "stream",
          "name": "stdout",
          "text": "{'predict': [184.66566335446362, 151.8625020138362]}\n"
        }
      ],
      "execution_count": 21,
      "metadata": {
        "jupyter": {
          "source_hidden": false,
          "outputs_hidden": false
        },
        "nteract": {
          "transient": {
            "deleting": false
          }
        },
        "gather": {
          "logged": 1676276290039
        }
      }
    }
  ],
  "metadata": {
    "kernelspec": {
      "name": "python38-azureml",
      "language": "python",
      "display_name": "Python 3.8 - AzureML"
    },
    "language_info": {
      "name": "python",
      "version": "3.8.10",
      "mimetype": "text/x-python",
      "codemirror_mode": {
        "name": "ipython",
        "version": 3
      },
      "pygments_lexer": "ipython3",
      "nbconvert_exporter": "python",
      "file_extension": ".py"
    },
    "kernel_info": {
      "name": "python38-azureml"
    },
    "microsoft": {
      "host": {
        "AzureML": {
          "notebookHasBeenCompleted": true
        }
      }
    },
    "nteract": {
      "version": "nteract-front-end@1.0.0"
    }
  },
  "nbformat": 4,
  "nbformat_minor": 2
}