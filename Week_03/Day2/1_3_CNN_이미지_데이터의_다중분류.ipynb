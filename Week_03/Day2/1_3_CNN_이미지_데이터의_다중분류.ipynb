{
  "cells": [
    {
      "cell_type": "code",
      "execution_count": 1,
      "metadata": {
        "id": "-XUNXqgnXUaU",
        "colab": {
          "base_uri": "https://localhost:8080/"
        },
        "outputId": "b54e05fe-b3de-4d42-e73c-12ffa8f843ea"
      },
      "outputs": [
        {
          "output_type": "stream",
          "name": "stdout",
          "text": [
            "(60000, 28, 28) (60000,)\n",
            "(10000, 28, 28) (10000,)\n"
          ]
        }
      ],
      "source": [
        "# 데이터 준비 \n",
        "from tensorflow.keras.datasets import fashion_mnist\n",
        "(X_train, y_train), (X_test, y_test) = fashion_mnist.load_data()\n",
        "print(X_train.shape, y_train.shape)\n",
        "print(X_test.shape, y_test.shape)"
      ]
    },
    {
      "cell_type": "code",
      "execution_count": 2,
      "metadata": {
        "id": "Lhxyf-MKfSeg",
        "colab": {
          "base_uri": "https://localhost:8080/",
          "height": 377
        },
        "outputId": "a300444b-b94a-4fb6-ecd7-72f79f71cde1"
      },
      "outputs": [
        {
          "output_type": "display_data",
          "data": {
            "text/plain": [
              "<Figure size 576x432 with 9 Axes>"
            ],
            "image/png": "[encoded data removed]"
          },
          "metadata": {}
        }
      ],
      "source": [
        "import pandas as pd\n",
        "import seaborn as sns\n",
        "import numpy as np\n",
        "import matplotlib.pyplot as plt\n",
        "\n",
        "# 이미지 확인\n",
        "class_names = ['T-shirt/top', 'Trouser', 'Pullover', \n",
        " 'Dress', 'Coat', 'Sandal', \n",
        " 'Shirt', 'Sneaker', 'Bag', 'Ankle boot']\n",
        "samples = np.random.randint(len(X_train), size=9) \n",
        "plt.figure(figsize = (8, 6))\n",
        "for i, idx in enumerate(samples):\n",
        "  plt.subplot(3, 3, i+1)\n",
        "  plt.xticks([])\n",
        "  plt.yticks([])\n",
        "  plt.imshow(X_train[idx], cmap = 'gray')\n",
        "  plt.title(class_names[y_train[idx]])\n",
        "plt.show()"
      ]
    },
    {
      "cell_type": "code",
      "execution_count": 3,
      "metadata": {
        "id": "F55an7fGfcK7",
        "colab": {
          "base_uri": "https://localhost:8080/"
        },
        "outputId": "6b6fbd33-ff07-42bb-d526-25d9531bd937"
      },
      "outputs": [
        {
          "output_type": "stream",
          "name": "stdout",
          "text": [
            "(42000, 28, 28) (42000,)\n",
            "(18000, 28, 28) (18000,)\n"
          ]
        }
      ],
      "source": [
        "# 검증 데이터 분리\n",
        "from sklearn.model_selection import train_test_split\n",
        "X_train, X_val, y_train, y_val = train_test_split(\n",
        " X_train, y_train, test_size = 0.3, random_state = 42)\n",
        "\n",
        "print(X_train.shape, y_train.shape)\n",
        "print(X_val.shape, y_val.shape)"
      ]
    },
    {
      "cell_type": "code",
      "execution_count": 4,
      "metadata": {
        "id": "qH7npYrefjJb",
        "colab": {
          "base_uri": "https://localhost:8080/"
        },
        "outputId": "05ccb48e-526d-4d55-d5ec-04791a26302e"
      },
      "outputs": [
        {
          "output_type": "stream",
          "name": "stdout",
          "text": [
            "1.0 0.0\n"
          ]
        }
      ],
      "source": [
        "# 이미지 데이터 정규화 ( 최소 - 최대 정규화 )\n",
        "import numpy as np\n",
        "X_train = X_train.astype('float32') / 255.\n",
        "X_val = X_val.astype('float32') / 255.\n",
        "X_test = X_test.astype('float32') / 255.\n",
        "\n",
        "print(np.max(X_train), np.min(X_train))\n"
      ]
    },
    {
      "cell_type": "code",
      "execution_count": 5,
      "metadata": {
        "id": "dyE-O4EPfm4F",
        "colab": {
          "base_uri": "https://localhost:8080/"
        },
        "outputId": "d6d94e00-5be4-4417-c247-aadb307627a9"
      },
      "outputs": [
        {
          "output_type": "stream",
          "name": "stdout",
          "text": [
            "X_train :  (42000, 28, 28)\n",
            "X_val :  (18000, 28, 28)\n",
            "X_test :  (10000, 28, 28)\n"
          ]
        }
      ],
      "source": [
        "# 데이터 shape 확인\n",
        "print('X_train : ', X_train.shape)\n",
        "print('X_val : ', X_val.shape)\n",
        "print('X_test : ', X_test.shape)"
      ]
    },
    {
      "cell_type": "code",
      "execution_count": 6,
      "metadata": {
        "id": "oBcm5cOefo-z",
        "colab": {
          "base_uri": "https://localhost:8080/"
        },
        "outputId": "f0411e44-aab1-4376-a6c7-bed5bc22a34b"
      },
      "outputs": [
        {
          "output_type": "stream",
          "name": "stdout",
          "text": [
            "X_train :  (42000, 28, 28, 1)\n",
            "X_val :  (18000, 28, 28, 1)\n",
            "X_test :  (10000, 28, 28, 1)\n"
          ]
        }
      ],
      "source": [
        "# 채널 축 추가\n",
        "\n",
        "import tensorflow as tf\n",
        "\n",
        "X_train = X_train[..., tf.newaxis]\n",
        "X_val = X_val[..., tf.newaxis]\n",
        "X_test = X_test[..., tf.newaxis]\n",
        "\n",
        "print('X_train : ', X_train.shape)\n",
        "print('X_val : ', X_val.shape)\n",
        "print('X_test : ', X_test.shape)"
      ]
    },
    {
      "cell_type": "code",
      "source": [
        "# 원 핫 인코딩\n",
        "from tensorflow.keras.utils import to_categorical\n",
        "y_train_oh = to_categorical(y_train)\n",
        "y_val_oh = to_categorical(y_val)\n",
        "y_test_oh = to_categorical(y_test)\n",
        "\n",
        "y_train_oh[:5]"
      ],
      "metadata": {
        "colab": {
          "base_uri": "https://localhost:8080/"
        },
        "id": "M8rNK3M_c85i",
        "outputId": "14e09449-e718-4a26-b12f-2d8cd51c613b"
      },
      "execution_count": 7,
      "outputs": [
        {
          "output_type": "execute_result",
          "data": {
            "text/plain": [
              "array([[0., 1., 0., 0., 0., 0., 0., 0., 0., 0.],\n",
              "       [0., 0., 0., 0., 0., 0., 0., 0., 1., 0.],\n",
              "       [0., 0., 0., 0., 0., 0., 0., 0., 0., 1.],\n",
              "       [1., 0., 0., 0., 0., 0., 0., 0., 0., 0.],\n",
              "       [0., 0., 0., 0., 0., 0., 0., 0., 1., 0.]], dtype=float32)"
            ]
          },
          "metadata": {},
          "execution_count": 7
        }
      ]
    },
    {
      "cell_type": "code",
      "execution_count": 8,
      "metadata": {
        "id": "8HKgF9kNfwgp"
      },
      "outputs": [],
      "source": [
        "# 모델 만들기\n",
        "from tensorflow import keras\n",
        "from tensorflow.keras import layers\n",
        "\n",
        "def build_model():\n",
        "  model = keras.Sequential()\n",
        "  model.add(layers.Conv2D(filters=16, kernel_size=3, strides=(1,1), padding='same', activation='relu', input_shape=(28,28,1)))\n",
        "  model.add(layers.MaxPool2D(pool_size=(2,2), strides=2))\n",
        "  \n",
        "  model.add(layers.Conv2D(filters=32, kernel_size=3, strides=(1,1), padding='same', activation='relu'))\n",
        "  model.add(layers.MaxPool2D(pool_size=(2,2), strides=2))\n",
        "  \n",
        "  model.add(layers.Conv2D(filters=64, kernel_size=3, strides=(1,1), padding='same', activation='relu'))\n",
        "  model.add(layers.MaxPool2D(pool_size=(2,2), strides=2))\n",
        "  model.add(layers.Flatten())\n",
        "  \n",
        "  model.add(layers.Dense(64, activation = 'relu'))\n",
        "  model.add(layers.Dense(10, activation = 'softmax'))\n",
        "  return model\n"
      ]
    },
    {
      "cell_type": "code",
      "execution_count": 9,
      "metadata": {
        "id": "ttG3uedmgCZ-",
        "colab": {
          "base_uri": "https://localhost:8080/"
        },
        "outputId": "5365bc7f-df87-4f55-bc41-5df2da44eaf5"
      },
      "outputs": [
        {
          "output_type": "stream",
          "name": "stdout",
          "text": [
            "Model: \"sequential\"\n",
            "_________________________________________________________________\n",
            " Layer (type)                Output Shape              Param #   \n",
            "=================================================================\n",
            " conv2d (Conv2D)             (None, 28, 28, 16)        160       \n",
            "                                                                 \n",
            " max_pooling2d (MaxPooling2D  (None, 14, 14, 16)       0         \n",
            " )                                                               \n",
            "                                                                 \n",
            " conv2d_1 (Conv2D)           (None, 14, 14, 32)        4640      \n",
            "                                                                 \n",
            " max_pooling2d_1 (MaxPooling  (None, 7, 7, 32)         0         \n",
            " 2D)                                                             \n",
            "                                                                 \n",
            " conv2d_2 (Conv2D)           (None, 7, 7, 64)          18496     \n",
            "                                                                 \n",
            " max_pooling2d_2 (MaxPooling  (None, 3, 3, 64)         0         \n",
            " 2D)                                                             \n",
            "                                                                 \n",
            " flatten (Flatten)           (None, 576)               0         \n",
            "                                                                 \n",
            " dense (Dense)               (None, 64)                36928     \n",
            "                                                                 \n",
            " dense_1 (Dense)             (None, 10)                650       \n",
            "                                                                 \n",
            "=================================================================\n",
            "Total params: 60,874\n",
            "Trainable params: 60,874\n",
            "Non-trainable params: 0\n",
            "_________________________________________________________________\n"
          ]
        }
      ],
      "source": [
        "model = build_model()\n",
        "model.summary()"
      ]
    },
    {
      "cell_type": "code",
      "execution_count": 10,
      "metadata": {
        "id": "0PWXjWN2gUFm"
      },
      "outputs": [],
      "source": [
        "# 모델 컴파일\n",
        "adam = tf.keras.optimizers.Adam(learning_rate=0.001)\n",
        "model.compile(optimizer=adam,\n",
        " loss = 'categorical_crossentropy',  # 다중 분류 모델\n",
        " metrics=['acc'])"
      ]
    },
    {
      "cell_type": "code",
      "execution_count": 11,
      "metadata": {
        "id": "NWW7iEptgWAv",
        "colab": {
          "base_uri": "https://localhost:8080/"
        },
        "outputId": "75909a0f-3e23-411a-aa7e-414c3a22dbca"
      },
      "outputs": [
        {
          "output_type": "stream",
          "name": "stdout",
          "text": [
            "Epoch 1/30\n",
            "657/657 [==============================] - 9s 10ms/step - loss: 0.6024 - acc: 0.7814 - val_loss: 0.4019 - val_acc: 0.8581\n",
            "Epoch 2/30\n",
            "657/657 [==============================] - 7s 10ms/step - loss: 0.3684 - acc: 0.8684 - val_loss: 0.3365 - val_acc: 0.8785\n",
            "Epoch 3/30\n",
            "657/657 [==============================] - 5s 7ms/step - loss: 0.3122 - acc: 0.8852 - val_loss: 0.3347 - val_acc: 0.8801\n",
            "Epoch 4/30\n",
            "657/657 [==============================] - 4s 7ms/step - loss: 0.2828 - acc: 0.8983 - val_loss: 0.2810 - val_acc: 0.8996\n",
            "Epoch 5/30\n",
            "657/657 [==============================] - 6s 9ms/step - loss: 0.2585 - acc: 0.9067 - val_loss: 0.2731 - val_acc: 0.9017\n",
            "Epoch 6/30\n",
            "657/657 [==============================] - 5s 8ms/step - loss: 0.2397 - acc: 0.9117 - val_loss: 0.2539 - val_acc: 0.9075\n",
            "Epoch 7/30\n",
            "657/657 [==============================] - 8s 12ms/step - loss: 0.2227 - acc: 0.9183 - val_loss: 0.2553 - val_acc: 0.9082\n",
            "Epoch 8/30\n",
            "657/657 [==============================] - 4s 6ms/step - loss: 0.2079 - acc: 0.9235 - val_loss: 0.2500 - val_acc: 0.9089\n",
            "Epoch 9/30\n",
            "657/657 [==============================] - 4s 6ms/step - loss: 0.1969 - acc: 0.9274 - val_loss: 0.2588 - val_acc: 0.9077\n",
            "Epoch 10/30\n",
            "657/657 [==============================] - 4s 6ms/step - loss: 0.1803 - acc: 0.9338 - val_loss: 0.2457 - val_acc: 0.9114\n",
            "Epoch 11/30\n",
            "657/657 [==============================] - 5s 7ms/step - loss: 0.1686 - acc: 0.9380 - val_loss: 0.2607 - val_acc: 0.9072\n",
            "Epoch 12/30\n",
            "657/657 [==============================] - 5s 7ms/step - loss: 0.1601 - acc: 0.9417 - val_loss: 0.2464 - val_acc: 0.9117\n",
            "Epoch 13/30\n",
            "657/657 [==============================] - 5s 8ms/step - loss: 0.1451 - acc: 0.9459 - val_loss: 0.2492 - val_acc: 0.9142\n",
            "Epoch 14/30\n",
            "657/657 [==============================] - 5s 8ms/step - loss: 0.1371 - acc: 0.9485 - val_loss: 0.2486 - val_acc: 0.9130\n",
            "Epoch 15/30\n",
            "657/657 [==============================] - 5s 7ms/step - loss: 0.1259 - acc: 0.9544 - val_loss: 0.2624 - val_acc: 0.9131\n",
            "Epoch 16/30\n",
            "657/657 [==============================] - 5s 7ms/step - loss: 0.1174 - acc: 0.9569 - val_loss: 0.2717 - val_acc: 0.9114\n",
            "Epoch 17/30\n",
            "657/657 [==============================] - 5s 7ms/step - loss: 0.1091 - acc: 0.9592 - val_loss: 0.2758 - val_acc: 0.9178\n",
            "Epoch 18/30\n",
            "657/657 [==============================] - 5s 8ms/step - loss: 0.1015 - acc: 0.9625 - val_loss: 0.2937 - val_acc: 0.9121\n",
            "Epoch 19/30\n",
            "657/657 [==============================] - 4s 6ms/step - loss: 0.0906 - acc: 0.9667 - val_loss: 0.3193 - val_acc: 0.9071\n",
            "Epoch 20/30\n",
            "657/657 [==============================] - 4s 6ms/step - loss: 0.0867 - acc: 0.9670 - val_loss: 0.3318 - val_acc: 0.9079\n",
            "Epoch 21/30\n",
            "657/657 [==============================] - 4s 6ms/step - loss: 0.0761 - acc: 0.9723 - val_loss: 0.3249 - val_acc: 0.9106\n",
            "Epoch 22/30\n",
            "657/657 [==============================] - 6s 9ms/step - loss: 0.0790 - acc: 0.9705 - val_loss: 0.3148 - val_acc: 0.9112\n",
            "Epoch 23/30\n",
            "657/657 [==============================] - 5s 8ms/step - loss: 0.0651 - acc: 0.9763 - val_loss: 0.3523 - val_acc: 0.9093\n",
            "Epoch 24/30\n",
            "657/657 [==============================] - 5s 8ms/step - loss: 0.0644 - acc: 0.9761 - val_loss: 0.3497 - val_acc: 0.9134\n",
            "Epoch 25/30\n",
            "657/657 [==============================] - 4s 7ms/step - loss: 0.0618 - acc: 0.9777 - val_loss: 0.3775 - val_acc: 0.9075\n",
            "Epoch 26/30\n",
            "657/657 [==============================] - 5s 7ms/step - loss: 0.0609 - acc: 0.9770 - val_loss: 0.3703 - val_acc: 0.9088\n",
            "Epoch 27/30\n",
            "657/657 [==============================] - 4s 6ms/step - loss: 0.0479 - acc: 0.9824 - val_loss: 0.3879 - val_acc: 0.9092\n",
            "Epoch 28/30\n",
            "657/657 [==============================] - 4s 6ms/step - loss: 0.0473 - acc: 0.9822 - val_loss: 0.4052 - val_acc: 0.9093\n",
            "Epoch 29/30\n",
            "657/657 [==============================] - 4s 6ms/step - loss: 0.0435 - acc: 0.9844 - val_loss: 0.4293 - val_acc: 0.9122\n",
            "Epoch 30/30\n",
            "657/657 [==============================] - 4s 6ms/step - loss: 0.0449 - acc: 0.9833 - val_loss: 0.4180 - val_acc: 0.9079\n"
          ]
        }
      ],
      "source": [
        "EPOCHS = 30\n",
        "BATCH_SIZE = 64\n",
        "history = model.fit(X_train, y_train_oh, epochs = EPOCHS, batch_size = BATCH_SIZE, validation_data = (X_val, y_val_oh),verbose = 1)"
      ]
    },
    {
      "cell_type": "code",
      "execution_count": 12,
      "metadata": {
        "id": "httGIC4IgXd6"
      },
      "outputs": [],
      "source": [
        "import matplotlib.pyplot as plt\n",
        "import pandas as pd\n",
        "def plot_history(history):\n",
        "  hist = pd.DataFrame(history.history)\n",
        "  hist['epoch'] = history.epoch\n",
        "  plt.figure(figsize=(16,8))\n",
        "\n",
        "  plt.subplot(1,2,1)\n",
        "  plt.xlabel('Epoch')\n",
        "  plt.ylabel('Loss')\n",
        "  plt.plot(hist['epoch'], hist['loss'], label='Train Loss')\n",
        "  plt.plot(hist['epoch'], hist['val_loss'], label = 'Val Loss')\n",
        "  plt.legend()\n",
        "\n",
        "  plt.subplot(1,2,2)\n",
        "  plt.xlabel('Epoch')\n",
        "  plt.ylabel('Accuracy')\n",
        "  plt.plot(hist['epoch'], hist['acc'], label='Train Accuracy')\n",
        "  plt.plot(hist['epoch'], hist['val_acc'], label = 'Val Accuracy')\n",
        "  plt.legend()\n",
        "  \n",
        "  plt.show()\n"
      ]
    },
    {
      "cell_type": "code",
      "execution_count": 13,
      "metadata": {
        "id": "ymjBJIgsm5-h",
        "colab": {
          "base_uri": "https://localhost:8080/",
          "height": 442
        },
        "outputId": "30010b50-50ec-4d13-8a29-23943e699335"
      },
      "outputs": [
        {
          "output_type": "display_data",
          "data": {
            "text/plain": [
              "<Figure size 1152x576 with 2 Axes>"
            ],
            "image/png": "[encoded data removed]"
          },
          "metadata": {
            "needs_background": "light"
          }
        }
      ],
      "source": [
        "plot_history(history)"
      ]
    },
    {
      "cell_type": "markdown",
      "source": [
        "Val Loss 감소 -> 증가  \n",
        "--> overfitting( 과적합 ) 발생 -> 학습량이 너무 많다라고 생각할 수 있음"
      ],
      "metadata": {
        "id": "EDUHfnWYd5Ow"
      }
    },
    {
      "cell_type": "markdown",
      "metadata": {
        "id": "eTeAlMlHqwKI"
      },
      "source": [
        "## Drop out\n",
        "오버피팅( 과적합 )을 수정하기 위해서 Dropout 레이어를 추가한 모델 학습  \n",
        "- 학습한 내용 중 일부를 버림\n",
        "- Overfitting( 과적합 ) 조절"
      ]
    },
    {
      "cell_type": "code",
      "execution_count": 15,
      "metadata": {
        "id": "fcRTgi_pm7L_"
      },
      "outputs": [],
      "source": [
        "from tensorflow import keras\n",
        "from tensorflow.keras import layers\n",
        "\n",
        "def build_dropout_model():\n",
        "  model = keras.Sequential()\n",
        "  model.add(layers.Conv2D(filters=16, kernel_size= 3, \n",
        "   strides=(1, 1), padding='same', activation='relu', \n",
        "   input_shape=(28, 28, 1)))\n",
        "  model.add(layers.MaxPool2D(pool_size=(2, 2), strides=2))\n",
        "  model.add(layers.Dropout(0.2)) #Dropout 레이어 추가\n",
        "\n",
        "  model.add(layers.Conv2D(filters=32, kernel_size= 3, \n",
        "   strides=(1, 1), padding='same', activation='relu'))\n",
        "  model.add(layers.MaxPool2D(pool_size=(2, 2), strides=2))\n",
        "  model.add(layers.Dropout(0.2)) #Dropout 레이어 추가\n",
        "\n",
        "  model.add(layers.Conv2D(filters=64, kernel_size= 3, \n",
        "   strides=(1, 1), padding='same', activation='relu'))\n",
        "  model.add(layers.MaxPool2D(pool_size=(2, 2), strides=2))\n",
        "  model.add(layers.Dropout(0.2)) # Dropout 레이어 추가가\n",
        "\n",
        "  model.add(layers.Flatten())\n",
        "  \n",
        "  model.add(layers.Dense(64, activation = 'relu'))\n",
        "  model.add(layers.Dense(10, activation = 'softmax'))\n",
        "  return model"
      ]
    },
    {
      "cell_type": "code",
      "execution_count": 16,
      "metadata": {
        "id": "KXl-EOsMqzZm",
        "colab": {
          "base_uri": "https://localhost:8080/"
        },
        "outputId": "e6aa61f0-5b42-4e36-baec-89dddb1f7c4b"
      },
      "outputs": [
        {
          "output_type": "stream",
          "name": "stdout",
          "text": [
            "Model: \"sequential_1\"\n",
            "_________________________________________________________________\n",
            " Layer (type)                Output Shape              Param #   \n",
            "=================================================================\n",
            " conv2d_3 (Conv2D)           (None, 28, 28, 16)        160       \n",
            "                                                                 \n",
            " max_pooling2d_3 (MaxPooling  (None, 14, 14, 16)       0         \n",
            " 2D)                                                             \n",
            "                                                                 \n",
            " dropout (Dropout)           (None, 14, 14, 16)        0         \n",
            "                                                                 \n",
            " conv2d_4 (Conv2D)           (None, 14, 14, 32)        4640      \n",
            "                                                                 \n",
            " max_pooling2d_4 (MaxPooling  (None, 7, 7, 32)         0         \n",
            " 2D)                                                             \n",
            "                                                                 \n",
            " dropout_1 (Dropout)         (None, 7, 7, 32)          0         \n",
            "                                                                 \n",
            " conv2d_5 (Conv2D)           (None, 7, 7, 64)          18496     \n",
            "                                                                 \n",
            " max_pooling2d_5 (MaxPooling  (None, 3, 3, 64)         0         \n",
            " 2D)                                                             \n",
            "                                                                 \n",
            " dropout_2 (Dropout)         (None, 3, 3, 64)          0         \n",
            "                                                                 \n",
            " flatten_1 (Flatten)         (None, 576)               0         \n",
            "                                                                 \n",
            " dense_2 (Dense)             (None, 64)                36928     \n",
            "                                                                 \n",
            " dense_3 (Dense)             (None, 10)                650       \n",
            "                                                                 \n",
            "=================================================================\n",
            "Total params: 60,874\n",
            "Trainable params: 60,874\n",
            "Non-trainable params: 0\n",
            "_________________________________________________________________\n"
          ]
        }
      ],
      "source": [
        "model = build_dropout_model()\n",
        "model.summary()"
      ]
    },
    {
      "cell_type": "code",
      "execution_count": 17,
      "metadata": {
        "id": "PleTM-eRq5N2"
      },
      "outputs": [],
      "source": [
        "# 컴파일 및 학습\n",
        "model.compile(optimizer='adam',\n",
        " loss = 'categorical_crossentropy', \n",
        " metrics=['acc'])"
      ]
    },
    {
      "cell_type": "code",
      "execution_count": 18,
      "metadata": {
        "colab": {
          "base_uri": "https://localhost:8080/"
        },
        "id": "o093lMXrq8Vd",
        "outputId": "4a196444-0131-423b-82ca-1b3ed04ae4c9"
      },
      "outputs": [
        {
          "output_type": "stream",
          "name": "stdout",
          "text": [
            "Epoch 1/30\n",
            "657/657 [==============================] - 5s 6ms/step - loss: 0.7127 - acc: 0.7339 - val_loss: 0.4601 - val_acc: 0.8412\n",
            "Epoch 2/30\n",
            "657/657 [==============================] - 5s 8ms/step - loss: 0.4547 - acc: 0.8327 - val_loss: 0.3719 - val_acc: 0.8704\n",
            "Epoch 3/30\n",
            "657/657 [==============================] - 6s 10ms/step - loss: 0.3998 - acc: 0.8508 - val_loss: 0.3333 - val_acc: 0.8759\n",
            "Epoch 4/30\n",
            "657/657 [==============================] - 5s 8ms/step - loss: 0.3693 - acc: 0.8653 - val_loss: 0.3222 - val_acc: 0.8811\n",
            "Epoch 5/30\n",
            "657/657 [==============================] - 6s 10ms/step - loss: 0.3463 - acc: 0.8712 - val_loss: 0.3178 - val_acc: 0.8827\n",
            "Epoch 6/30\n",
            "657/657 [==============================] - 4s 7ms/step - loss: 0.3267 - acc: 0.8791 - val_loss: 0.2933 - val_acc: 0.8909\n",
            "Epoch 7/30\n",
            "657/657 [==============================] - 4s 6ms/step - loss: 0.3128 - acc: 0.8852 - val_loss: 0.2790 - val_acc: 0.8978\n",
            "Epoch 8/30\n",
            "657/657 [==============================] - 4s 7ms/step - loss: 0.3017 - acc: 0.8883 - val_loss: 0.2720 - val_acc: 0.9008\n",
            "Epoch 9/30\n",
            "657/657 [==============================] - 4s 6ms/step - loss: 0.2924 - acc: 0.8913 - val_loss: 0.2671 - val_acc: 0.9041\n",
            "Epoch 10/30\n",
            "657/657 [==============================] - 4s 6ms/step - loss: 0.2843 - acc: 0.8944 - val_loss: 0.2663 - val_acc: 0.9041\n",
            "Epoch 11/30\n",
            "657/657 [==============================] - 4s 7ms/step - loss: 0.2762 - acc: 0.8980 - val_loss: 0.2577 - val_acc: 0.9074\n",
            "Epoch 12/30\n",
            "657/657 [==============================] - 4s 6ms/step - loss: 0.2688 - acc: 0.8989 - val_loss: 0.2447 - val_acc: 0.9076\n",
            "Epoch 13/30\n",
            "657/657 [==============================] - 4s 7ms/step - loss: 0.2627 - acc: 0.9012 - val_loss: 0.2457 - val_acc: 0.9095\n",
            "Epoch 14/30\n",
            "657/657 [==============================] - 5s 8ms/step - loss: 0.2546 - acc: 0.9048 - val_loss: 0.2393 - val_acc: 0.9118\n",
            "Epoch 15/30\n",
            "657/657 [==============================] - 4s 7ms/step - loss: 0.2505 - acc: 0.9067 - val_loss: 0.2404 - val_acc: 0.9113\n",
            "Epoch 16/30\n",
            "657/657 [==============================] - 4s 6ms/step - loss: 0.2444 - acc: 0.9076 - val_loss: 0.2302 - val_acc: 0.9149\n",
            "Epoch 17/30\n",
            "657/657 [==============================] - 4s 7ms/step - loss: 0.2445 - acc: 0.9085 - val_loss: 0.2302 - val_acc: 0.9147\n",
            "Epoch 18/30\n",
            "657/657 [==============================] - 4s 6ms/step - loss: 0.2377 - acc: 0.9105 - val_loss: 0.2274 - val_acc: 0.9177\n",
            "Epoch 19/30\n",
            "657/657 [==============================] - 4s 7ms/step - loss: 0.2301 - acc: 0.9133 - val_loss: 0.2352 - val_acc: 0.9128\n",
            "Epoch 20/30\n",
            "657/657 [==============================] - 4s 6ms/step - loss: 0.2334 - acc: 0.9119 - val_loss: 0.2269 - val_acc: 0.9164\n",
            "Epoch 21/30\n",
            "657/657 [==============================] - 4s 7ms/step - loss: 0.2245 - acc: 0.9158 - val_loss: 0.2255 - val_acc: 0.9163\n",
            "Epoch 22/30\n",
            "657/657 [==============================] - 4s 7ms/step - loss: 0.2197 - acc: 0.9171 - val_loss: 0.2213 - val_acc: 0.9177\n",
            "Epoch 23/30\n",
            "657/657 [==============================] - 4s 6ms/step - loss: 0.2173 - acc: 0.9174 - val_loss: 0.2249 - val_acc: 0.9169\n",
            "Epoch 24/30\n",
            "657/657 [==============================] - 4s 6ms/step - loss: 0.2148 - acc: 0.9188 - val_loss: 0.2258 - val_acc: 0.9164\n",
            "Epoch 25/30\n",
            "657/657 [==============================] - 4s 6ms/step - loss: 0.2157 - acc: 0.9176 - val_loss: 0.2279 - val_acc: 0.9164\n",
            "Epoch 26/30\n",
            "657/657 [==============================] - 4s 7ms/step - loss: 0.2108 - acc: 0.9207 - val_loss: 0.2216 - val_acc: 0.9191\n",
            "Epoch 27/30\n",
            "657/657 [==============================] - 4s 7ms/step - loss: 0.2093 - acc: 0.9189 - val_loss: 0.2160 - val_acc: 0.9216\n",
            "Epoch 28/30\n",
            "657/657 [==============================] - 4s 7ms/step - loss: 0.2075 - acc: 0.9213 - val_loss: 0.2162 - val_acc: 0.9201\n",
            "Epoch 29/30\n",
            "657/657 [==============================] - 5s 8ms/step - loss: 0.2038 - acc: 0.9225 - val_loss: 0.2163 - val_acc: 0.9218\n",
            "Epoch 30/30\n",
            "657/657 [==============================] - 5s 7ms/step - loss: 0.2038 - acc: 0.9226 - val_loss: 0.2243 - val_acc: 0.9167\n"
          ]
        }
      ],
      "source": [
        "EPOCHS = 30\n",
        "BATCH_SIZE = 64\n",
        "history = model.fit(X_train, y_train_oh, \n",
        " epochs = EPOCHS, \n",
        " batch_size = BATCH_SIZE, \n",
        " validation_data = (X_val, y_val_oh),\n",
        " verbose = 1)"
      ]
    },
    {
      "cell_type": "code",
      "execution_count": 19,
      "metadata": {
        "id": "qDTGyg7Qq929",
        "colab": {
          "base_uri": "https://localhost:8080/",
          "height": 442
        },
        "outputId": "cdaa926c-64d2-4b50-effb-861b3cf53bde"
      },
      "outputs": [
        {
          "output_type": "display_data",
          "data": {
            "text/plain": [
              "<Figure size 1152x576 with 2 Axes>"
            ],
            "image/png": "[encoded data removed]"
          },
          "metadata": {
            "needs_background": "light"
          }
        }
      ],
      "source": [
        "plot_history(history)"
      ]
    },
    {
      "cell_type": "code",
      "execution_count": 20,
      "metadata": {
        "id": "ZO6rTAo0rBKv",
        "colab": {
          "base_uri": "https://localhost:8080/"
        },
        "outputId": "faadace2-6474-47d3-e9f1-cbd43f617d5c"
      },
      "outputs": [
        {
          "output_type": "stream",
          "name": "stdout",
          "text": [
            "313/313 [==============================] - 1s 2ms/step\n"
          ]
        },
        {
          "output_type": "execute_result",
          "data": {
            "text/plain": [
              "array([9, 2, 1, 1, 6, 1, 4, 6, 5, 7])"
            ]
          },
          "metadata": {},
          "execution_count": 20
        }
      ],
      "source": [
        "# 예측\n",
        "y_pred = model.predict(X_test)\n",
        "y_pred_argmax = np.argmax(y_pred, axis=1)\n",
        "\n",
        "y_pred_argmax[:10]"
      ]
    },
    {
      "cell_type": "code",
      "execution_count": 22,
      "metadata": {
        "id": "uLODTrTurDTA",
        "colab": {
          "base_uri": "https://localhost:8080/"
        },
        "outputId": "e704c984-5947-4d20-ea6d-4cd6852c4cc6"
      },
      "outputs": [
        {
          "output_type": "stream",
          "name": "stdout",
          "text": [
            "accuarcy: 0.911\n",
            "precision: 0.911\n",
            "recall_score: 0.911\n",
            "f1_score: 0.909\n"
          ]
        }
      ],
      "source": [
        "from sklearn.metrics import accuracy_score, precision_score, recall_score, f1_score\n",
        "def print_score(y_test, y_pred):\n",
        "  print('accuarcy: %.3f' % (accuracy_score(y_test, y_pred)))\n",
        "  print('precision: %.3f' % (precision_score(y_test, y_pred, average='macro')))\n",
        "  print('recall_score: %.3f' % (recall_score(y_test, y_pred, average='macro')))\n",
        "  print('f1_score: %.3f' % (f1_score(y_test, y_pred, average='macro')))\n",
        "\n",
        "print_score(y_test, y_pred_argmax)"
      ]
    },
    {
      "cell_type": "markdown",
      "source": [
        "## 원 핫 인코딩 제외"
      ],
      "metadata": {
        "id": "4iZLVU0fgEjd"
      }
    },
    {
      "cell_type": "code",
      "source": [
        "# 모델 생성\n",
        "model = build_dropout_model()\n"
      ],
      "metadata": {
        "id": "73rPudqUgDog"
      },
      "execution_count": 24,
      "outputs": []
    },
    {
      "cell_type": "code",
      "source": [
        "# 모델 컴파일\n",
        "model.compile(optimizer='adam',\n",
        "              loss = 'sparse_categorical_crossentropy', \n",
        "              # 손실함수 원핫 인코딩 쓸 때는 categorical_crossentropy 썼었음음\n",
        "              metrics=['acc'])\n"
      ],
      "metadata": {
        "id": "-fke1xxRgICn"
      },
      "execution_count": 25,
      "outputs": []
    },
    {
      "cell_type": "code",
      "source": [
        "#모델학습\n",
        "EPOCHS = 15\n",
        "BATCH_SIZE = 64\n",
        "history = model.fit(X_train, y_train,\n",
        "                    epochs = EPOCHS,\n",
        "                    batch_size = BATCH_SIZE,\n",
        "                    validation_data = (X_val, y_val),\n",
        "                    verbose = 1)"
      ],
      "metadata": {
        "colab": {
          "base_uri": "https://localhost:8080/"
        },
        "id": "yuJULsNhgX5B",
        "outputId": "023c0669-551d-4692-bbf4-5294e9e1384f"
      },
      "execution_count": 27,
      "outputs": [
        {
          "output_type": "stream",
          "name": "stdout",
          "text": [
            "Epoch 1/15\n",
            "657/657 [==============================] - 4s 7ms/step - loss: 0.4444 - acc: 0.8363 - val_loss: 0.3678 - val_acc: 0.8662\n",
            "Epoch 2/15\n",
            "657/657 [==============================] - 5s 7ms/step - loss: 0.3934 - acc: 0.8542 - val_loss: 0.3342 - val_acc: 0.8762\n",
            "Epoch 3/15\n",
            "657/657 [==============================] - 5s 7ms/step - loss: 0.3609 - acc: 0.8657 - val_loss: 0.3197 - val_acc: 0.8821\n",
            "Epoch 4/15\n",
            "657/657 [==============================] - 4s 7ms/step - loss: 0.3405 - acc: 0.8745 - val_loss: 0.2916 - val_acc: 0.8946\n",
            "Epoch 5/15\n",
            "657/657 [==============================] - 4s 6ms/step - loss: 0.3208 - acc: 0.8816 - val_loss: 0.2781 - val_acc: 0.8984\n",
            "Epoch 6/15\n",
            "657/657 [==============================] - 4s 6ms/step - loss: 0.3083 - acc: 0.8855 - val_loss: 0.2823 - val_acc: 0.8954\n",
            "Epoch 7/15\n",
            "657/657 [==============================] - 4s 6ms/step - loss: 0.2931 - acc: 0.8897 - val_loss: 0.2648 - val_acc: 0.9026\n",
            "Epoch 8/15\n",
            "657/657 [==============================] - 4s 7ms/step - loss: 0.2830 - acc: 0.8942 - val_loss: 0.2630 - val_acc: 0.9013\n",
            "Epoch 9/15\n",
            "657/657 [==============================] - 4s 7ms/step - loss: 0.2773 - acc: 0.8977 - val_loss: 0.2481 - val_acc: 0.9084\n",
            "Epoch 10/15\n",
            "657/657 [==============================] - 4s 6ms/step - loss: 0.2677 - acc: 0.8996 - val_loss: 0.2442 - val_acc: 0.9117\n",
            "Epoch 11/15\n",
            "657/657 [==============================] - 4s 6ms/step - loss: 0.2589 - acc: 0.9040 - val_loss: 0.2369 - val_acc: 0.9114\n",
            "Epoch 12/15\n",
            "657/657 [==============================] - 4s 6ms/step - loss: 0.2531 - acc: 0.9056 - val_loss: 0.2327 - val_acc: 0.9149\n",
            "Epoch 13/15\n",
            "657/657 [==============================] - 5s 8ms/step - loss: 0.2487 - acc: 0.9070 - val_loss: 0.2324 - val_acc: 0.9144\n",
            "Epoch 14/15\n",
            "657/657 [==============================] - 5s 8ms/step - loss: 0.2425 - acc: 0.9087 - val_loss: 0.2381 - val_acc: 0.9132\n",
            "Epoch 15/15\n",
            "657/657 [==============================] - 6s 9ms/step - loss: 0.2390 - acc: 0.9093 - val_loss: 0.2330 - val_acc: 0.9134\n"
          ]
        }
      ]
    },
    {
      "cell_type": "code",
      "source": [
        "# 예측\n",
        "y_pred = model.predict(X_test)\n",
        "y_pred[:1]"
      ],
      "metadata": {
        "colab": {
          "base_uri": "https://localhost:8080/"
        },
        "id": "AAc8hgq-gY9d",
        "outputId": "b72bd3fd-9eef-470b-fbb4-4d263c427ae1"
      },
      "execution_count": 28,
      "outputs": [
        {
          "output_type": "stream",
          "name": "stdout",
          "text": [
            "313/313 [==============================] - 1s 3ms/step\n"
          ]
        },
        {
          "output_type": "execute_result",
          "data": {
            "text/plain": [
              "array([[2.8543562e-05, 2.1772827e-08, 1.7854740e-06, 7.8086504e-07,\n",
              "        7.2769978e-07, 7.6903641e-04, 3.4872571e-06, 8.1256106e-03,\n",
              "        9.7643651e-06, 9.9106020e-01]], dtype=float32)"
            ]
          },
          "metadata": {},
          "execution_count": 28
        }
      ]
    },
    {
      "cell_type": "code",
      "source": [
        "# 평가지표 계산\n",
        "y_pred_argmax = np.argmax(y_pred, axis=1)\n",
        "print_score(y_test, y_pred_argmax)\n"
      ],
      "metadata": {
        "colab": {
          "base_uri": "https://localhost:8080/"
        },
        "id": "mPrnoy3ige3P",
        "outputId": "341bd666-576f-452b-8306-ff97922b6c20"
      },
      "execution_count": 29,
      "outputs": [
        {
          "output_type": "stream",
          "name": "stdout",
          "text": [
            "accuarcy: 0.907\n",
            "precision: 0.909\n",
            "recall_score: 0.907\n",
            "f1_score: 0.906\n"
          ]
        }
      ]
    },
    {
      "cell_type": "markdown",
      "source": [
        "\n",
        "CNN에서 Dropout 적용  \n",
        "\n",
        "|이미지 데이터 다중 분류 기법|accuracy|precisional|recall_score|f1_score|\n",
        "|------|---:|---:|---:|---:|\n",
        "|DNN|0.877|0.878|0.877|0.877|\n",
        "|CNN(원핫인코딩X)|0.907|0.909|0.907|0.906|\n",
        "|CNN(원핫인코딩O)|0.911|0.911|0.911|0.909|"
      ],
      "metadata": {
        "id": "M-ndS29zgj69"
      }
    },
    {
      "cell_type": "code",
      "source": [],
      "metadata": {
        "id": "2FbPDczDghRc"
      },
      "execution_count": null,
      "outputs": []
    }
  ],
  "metadata": {
    "accelerator": "GPU",
    "colab": {
      "provenance": []
    },
    "gpuClass": "standard",
    "kernelspec": {
      "display_name": "Python 3",
      "name": "python3"
    },
    "language_info": {
      "name": "python"
    }
  },
  "nbformat": 4,
  "nbformat_minor": 0
}