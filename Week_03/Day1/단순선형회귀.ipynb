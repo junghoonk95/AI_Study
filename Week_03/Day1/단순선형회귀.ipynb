{
  "cells": [
    {
      "attachments": {},
      "cell_type": "markdown",
      "metadata": {
        "id": "XDrmyA817Uih"
      },
      "source": [
        "## 단순 선형 회귀\n",
        "\n",
        "`y = wx + b`\n",
        "\n",
        "- Simple Linear Regression Analysis\n",
        "- 위 수식처럼 독립 변수(x) 하나에 따라 종속 변수(y)가 결정되면 단순 선형 회귀\n",
        "- x가 여러 개면 다중 선형 회귀 (Multiple Linear Regression)\n",
        "- 회귀 문제에서는 손실 함수로 **평균제곱오차(Mearn Squared Error:MSE)**를 사용"
      ]
    },
    {
      "cell_type": "code",
      "execution_count": null,
      "metadata": {
        "id": "vYpDrjig7-FX"
      },
      "outputs": [],
      "source": [
        "import numpy as np\n",
        "import matplotlib.pyplot as plt\n",
        "import tensorflow as tf"
      ]
    },
    {
      "cell_type": "code",
      "execution_count": null,
      "metadata": {
        "colab": {
          "base_uri": "https://localhost:8080/",
          "height": 35
        },
        "id": "1sWORF409dk8",
        "outputId": "b06c7309-081a-4dd3-e23f-eb717fdf3711"
      },
      "outputs": [
        {
          "data": {
            "application/vnd.google.colaboratory.intrinsic+json": {
              "type": "string"
            },
            "text/plain": [
              "'2.9.2'"
            ]
          },
          "execution_count": 2,
          "metadata": {},
          "output_type": "execute_result"
        }
      ],
      "source": [
        "tf.__version__"
      ]
    },
    {
      "cell_type": "markdown",
      "metadata": {
        "id": "1BH-zTix8Lo8"
      },
      "source": [
        "### 데이터 준비"
      ]
    },
    {
      "cell_type": "code",
      "execution_count": null,
      "metadata": {
        "colab": {
          "base_uri": "https://localhost:8080/"
        },
        "id": "FAC1ASVW8T7W",
        "outputId": "492f3d92-51b0-439c-9a25-d5787c4b4f69"
      },
      "outputs": [
        {
          "name": "stdout",
          "output_type": "stream",
          "text": [
            "(6,) (6,)\n"
          ]
        }
      ],
      "source": [
        "X = np.array([-1.0, 0.0, 1.0, 2.0, 3.0, 4.0])\n",
        "y = np.array([5.0, 6.0, 7.0, 8.0, 9.0, 10.0])\n",
        "print(X.shape, y.shape)"
      ]
    },
    {
      "cell_type": "markdown",
      "metadata": {
        "id": "MFGwUe1R8gyh"
      },
      "source": [
        "### 데이터 시각화"
      ]
    },
    {
      "cell_type": "code",
      "execution_count": null,
      "metadata": {
        "colab": {
          "base_uri": "https://localhost:8080/",
          "height": 265
        },
        "id": "HiHOiVPe8cAo",
        "outputId": "398130d3-b3d3-4fc5-d758-3d735624c75a"
      },
      "outputs": [
        {
          "data": {
            "image/png": "[encoded data removed]",
            "text/plain": [
              "<Figure size 432x288 with 1 Axes>"
            ]
          },
          "metadata": {
            "needs_background": "light"
          },
          "output_type": "display_data"
        }
      ],
      "source": [
        "plt.plot(X, y, 'ro')\n",
        "plt.show()"
      ]
    },
    {
      "cell_type": "markdown",
      "metadata": {
        "id": "yo1TIrhr8pN5"
      },
      "source": [
        "### 모델 만들기\n",
        "- 케라스를 이용해서 unit이 1개인 모델 만들기\n",
        "- dense layer 혹은 fully connected layer"
      ]
    },
    {
      "cell_type": "code",
      "execution_count": null,
      "metadata": {
        "colab": {
          "base_uri": "https://localhost:8080/"
        },
        "id": "xg40erCI8lMc",
        "outputId": "4e5cd712-30e3-476f-a51d-507b12af60cf"
      },
      "outputs": [
        {
          "name": "stdout",
          "output_type": "stream",
          "text": [
            "Model: \"sequential\"\n",
            "_________________________________________________________________\n",
            " Layer (type)                Output Shape              Param #   \n",
            "=================================================================\n",
            " dense (Dense)               (None, 1)                 2         \n",
            "                                                                 \n",
            "=================================================================\n",
            "Total params: 2\n",
            "Trainable params: 2\n",
            "Non-trainable params: 0\n",
            "_________________________________________________________________\n"
          ]
        }
      ],
      "source": [
        "from tensorflow import keras\n",
        "from tensorflow.keras import layers\n",
        "\n",
        "model = keras.Sequential([\n",
        "    layers.Dense(1, input_shape=(1,)),\n",
        "    # 출력 노드의 수\n",
        "])\n",
        "\n",
        "model.summary()"
      ]
    },
    {
      "cell_type": "markdown",
      "metadata": {
        "id": "bwj9gKWw-q7E"
      },
      "source": [
        "### 모델 컴파일\n",
        "- Sequential과 같은 메서드로 층을 구성한뒤 compile 메서드를 호출하여 학습 과정을 설명\n",
        "- keras는 모델의 학습 전에 컴파일\n",
        "- 손실함수와 옵티마이저 그리고 메트릭스를 설정\n",
        "- `tf.keras.Model.compile` 파라미터\n",
        "  - `optimizer`: sgd, adam, ..\n",
        "  - `loss`: mse, categorical_crossentropy, ..\n",
        "  - `metrics`: mae, acc, .."
      ]
    },
    {
      "cell_type": "code",
      "execution_count": null,
      "metadata": {
        "id": "PQOLSa4l-qpR"
      },
      "outputs": [],
      "source": [
        "# 모델 컴파일\n",
        "model.compile(optimizer='sgd', loss='mse', metrics=['mae'])"
      ]
    },
    {
      "cell_type": "markdown",
      "metadata": {
        "id": "iglnMMpxAOkN"
      },
      "source": [
        "### 모델 학습시키기\n",
        "- `tf.keras.Model.fit` 파라미터\n",
        "  - `epochs` : 전체 입력 데이터를 얼마나 순회할 것인가\n",
        "  - `batch_size` : 데이터를 어떤 크기의 배치로 나누어서 학습할 것인가"
      ]
    },
    {
      "cell_type": "code",
      "execution_count": null,
      "metadata": {
        "colab": {
          "base_uri": "https://localhost:8080/"
        },
        "id": "2ClO8SxJ8630",
        "outputId": "47960f87-78a9-4900-83d4-91699ccbe6b5"
      },
      "outputs": [
        {
          "name": "stdout",
          "output_type": "stream",
          "text": [
            "Epoch 1/30\n",
            "1/1 [==============================] - 1s 673ms/step - loss: 71.4395 - mae: 8.1052\n",
            "Epoch 2/30\n",
            "1/1 [==============================] - 0s 8ms/step - loss: 58.9777 - mae: 7.4556\n",
            "Epoch 3/30\n",
            "1/1 [==============================] - 0s 7ms/step - loss: 49.1164 - mae: 6.8766\n",
            "Epoch 4/30\n",
            "1/1 [==============================] - 0s 7ms/step - loss: 41.3023 - mae: 6.3603\n",
            "Epoch 5/30\n",
            "1/1 [==============================] - 0s 17ms/step - loss: 35.0998 - mae: 5.8997\n",
            "Epoch 6/30\n",
            "1/1 [==============================] - 0s 7ms/step - loss: 30.1665 - mae: 5.4885\n",
            "Epoch 7/30\n",
            "1/1 [==============================] - 0s 7ms/step - loss: 26.2328 - mae: 5.1211\n",
            "Epoch 8/30\n",
            "1/1 [==============================] - 0s 11ms/step - loss: 23.0867 - mae: 4.7926\n",
            "Epoch 9/30\n",
            "1/1 [==============================] - 0s 13ms/step - loss: 20.5611 - mae: 4.4987\n",
            "Epoch 10/30\n",
            "1/1 [==============================] - 0s 7ms/step - loss: 18.5249 - mae: 4.2354\n",
            "Epoch 11/30\n",
            "1/1 [==============================] - 0s 7ms/step - loss: 16.8747 - mae: 3.9993\n",
            "Epoch 12/30\n",
            "1/1 [==============================] - 0s 11ms/step - loss: 15.5291 - mae: 3.7874\n",
            "Epoch 13/30\n",
            "1/1 [==============================] - 0s 13ms/step - loss: 14.4242 - mae: 3.5970\n",
            "Epoch 14/30\n",
            "1/1 [==============================] - 0s 9ms/step - loss: 13.5096 - mae: 3.4256\n",
            "Epoch 15/30\n",
            "1/1 [==============================] - 0s 11ms/step - loss: 12.7456 - mae: 3.2712\n",
            "Epoch 16/30\n",
            "1/1 [==============================] - 0s 8ms/step - loss: 12.1011 - mae: 3.1319\n",
            "Epoch 17/30\n",
            "1/1 [==============================] - 0s 6ms/step - loss: 11.5514 - mae: 3.0059\n",
            "Epoch 18/30\n",
            "1/1 [==============================] - 0s 15ms/step - loss: 11.0772 - mae: 2.8918\n",
            "Epoch 19/30\n",
            "1/1 [==============================] - 0s 7ms/step - loss: 10.6633 - mae: 2.7882\n",
            "Epoch 20/30\n",
            "1/1 [==============================] - 0s 9ms/step - loss: 10.2976 - mae: 2.6941\n",
            "Epoch 21/30\n",
            "1/1 [==============================] - 0s 11ms/step - loss: 9.9707 - mae: 2.6083\n",
            "Epoch 22/30\n",
            "1/1 [==============================] - 0s 7ms/step - loss: 9.6752 - mae: 2.5696\n",
            "Epoch 23/30\n",
            "1/1 [==============================] - 0s 6ms/step - loss: 9.4050 - mae: 2.5335\n",
            "Epoch 24/30\n",
            "1/1 [==============================] - 0s 6ms/step - loss: 9.1557 - mae: 2.4989\n",
            "Epoch 25/30\n",
            "1/1 [==============================] - 0s 6ms/step - loss: 8.9234 - mae: 2.4656\n",
            "Epoch 26/30\n",
            "1/1 [==============================] - 0s 6ms/step - loss: 8.7053 - mae: 2.4335\n",
            "Epoch 27/30\n",
            "1/1 [==============================] - 0s 6ms/step - loss: 8.4992 - mae: 2.4024\n",
            "Epoch 28/30\n",
            "1/1 [==============================] - 0s 6ms/step - loss: 8.3031 - mae: 2.3724\n",
            "Epoch 29/30\n",
            "1/1 [==============================] - 0s 5ms/step - loss: 8.1156 - mae: 2.3432\n",
            "Epoch 30/30\n",
            "1/1 [==============================] - 0s 6ms/step - loss: 7.9355 - mae: 2.3149\n"
          ]
        }
      ],
      "source": [
        "history = model.fit(X, y, epochs=30, verbose=1)"
      ]
    },
    {
      "cell_type": "markdown",
      "metadata": {
        "id": "ihFu1NXcA2Gf"
      },
      "source": [
        "### 학습 결과 시각화"
      ]
    },
    {
      "cell_type": "code",
      "execution_count": null,
      "metadata": {
        "colab": {
          "base_uri": "https://localhost:8080/",
          "height": 279
        },
        "id": "OzL5rPMTAVBy",
        "outputId": "4b76977d-4df2-4847-87d4-6a0ca025bf74"
      },
      "outputs": [
        {
          "data": {
            "image/png": "[encoded data removed]",
            "text/plain": [
              "<Figure size 432x288 with 1 Axes>"
            ]
          },
          "metadata": {
            "needs_background": "light"
          },
          "output_type": "display_data"
        }
      ],
      "source": [
        "loss = history.history['loss']\n",
        "epochs = range(1, len(loss) + 1)\n",
        "plt.plot(epochs, loss, color = 'blue', label = 'train_loss')\n",
        "plt.xlabel('epochs')\n",
        "plt.ylabel('loss')\n",
        "plt.legend()\n",
        "plt.show()"
      ]
    },
    {
      "attachments": {},
      "cell_type": "markdown",
      "metadata": {
        "id": "LsqTmRTTBAX-"
      },
      "source": [
        "### 예측하기\n",
        "- 입력 데이터는 배치 차원이 필요해서 한 개의 데이터를 입력하더라도 2차원으로 입력해야 함"
      ]
    },
    {
      "cell_type": "code",
      "execution_count": null,
      "metadata": {
        "colab": {
          "base_uri": "https://localhost:8080/"
        },
        "id": "1JfIqK0VA8pi",
        "outputId": "0bfd1c61-06e2-45a7-8573-e9b40086bdc2"
      },
      "outputs": [
        {
          "name": "stdout",
          "output_type": "stream",
          "text": [
            "1/1 [==============================] - 0s 74ms/step\n",
            "[[23.335655]]\n"
          ]
        }
      ],
      "source": [
        "X_test = [[10.0]]\n",
        "\n",
        "y_pred = model.predict(X_test)\n",
        "print(y_pred)"
      ]
    },
    {
      "cell_type": "markdown",
      "metadata": {
        "id": "MgX2D9qFBivp"
      },
      "source": [
        "### 가중치 출력"
      ]
    },
    {
      "cell_type": "code",
      "execution_count": null,
      "metadata": {
        "colab": {
          "base_uri": "https://localhost:8080/"
        },
        "id": "137QisYYBS7S",
        "outputId": "06571cab-ef5b-404c-883f-b8632d6d8765"
      },
      "outputs": [
        {
          "name": "stdout",
          "output_type": "stream",
          "text": [
            "w:  [[2.1042778]]\n",
            "b:  [2.2928777]\n"
          ]
        }
      ],
      "source": [
        "w, b = model.get_weights()\n",
        "print(\"w: \", w)\n",
        "print(\"b: \", b)"
      ]
    },
    {
      "cell_type": "markdown",
      "metadata": {
        "id": "uSxF-nuZBz99"
      },
      "source": [
        "### 예측값 시각화하기"
      ]
    },
    {
      "cell_type": "code",
      "execution_count": null,
      "metadata": {
        "colab": {
          "base_uri": "https://localhost:8080/"
        },
        "id": "WxhoCf4BBp2b",
        "outputId": "6678ecd0-e7d0-4bfa-8fd4-ececbde287f6"
      },
      "outputs": [
        {
          "name": "stdout",
          "output_type": "stream",
          "text": [
            "1/1 [==============================] - 0s 43ms/step\n"
          ]
        },
        {
          "data": {
            "text/plain": [
              "array([[ 0.18859982],\n",
              "       [ 2.2928777 ],\n",
              "       [ 4.397156  ],\n",
              "       [ 6.5014334 ],\n",
              "       [ 8.605711  ],\n",
              "       [10.70999   ]], dtype=float32)"
            ]
          },
          "execution_count": 11,
          "metadata": {},
          "output_type": "execute_result"
        }
      ],
      "source": [
        "y_pred = model.predict([X])\n",
        "y_pred"
      ]
    },
    {
      "cell_type": "code",
      "execution_count": null,
      "metadata": {
        "colab": {
          "base_uri": "https://localhost:8080/",
          "height": 265
        },
        "id": "X_XwC_MbB4JB",
        "outputId": "0ce908a4-cfab-43d5-fd66-6205d6e11eca"
      },
      "outputs": [
        {
          "data": {
            "image/png": "[encoded data removed]",
            "text/plain": [
              "<Figure size 432x288 with 1 Axes>"
            ]
          },
          "metadata": {
            "needs_background": "light"
          },
          "output_type": "display_data"
        }
      ],
      "source": [
        "# 시각화\n",
        "plt.plot(X, y, 'ro')\n",
        "plt.plot(X, y_pred, 'g--')\n",
        "plt.show()"
      ]
    }
  ],
  "metadata": {
    "colab": {
      "provenance": []
    },
    "kernelspec": {
      "display_name": "Python 3",
      "name": "python3"
    },
    "language_info": {
      "name": "python"
    }
  },
  "nbformat": 4,
  "nbformat_minor": 0
}
